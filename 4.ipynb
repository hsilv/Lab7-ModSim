{
 "cells": [
  {
   "cell_type": "markdown",
   "metadata": {},
   "source": [
    "Antes de comenzar, tendremos que para utilizar estas funciones, se necesita la función objetivo $f$, su gradiente $df$, y el hessiano $ddf$. Definiendo la estructura genérica para los métodos de descenso:\n",
    "\n",
    "* `f`: Función objetivo\n",
    "* `df`: Gradiente de la función objetivo.\n",
    "* `ddf`: El hessiano de la función objetivo.\n",
    "* `x0`: Punto de inicio.\n",
    "* `a`: Step size.\n",
    "* `maxIter`: Número máximo de pasos o iteraciones.\n",
    "* `e`: Tolerancia para el criterio de paro.\n",
    "* `stopCriterion`: Criterio de paro."
   ]
  },
  {
   "cell_type": "markdown",
   "metadata": {},
   "source": [
    "1. **Descenso Gradiente Naive con Dirección Aleatoria**"
   ]
  },
  {
   "cell_type": "code",
   "execution_count": null,
   "metadata": {},
   "outputs": [],
   "source": [
    "function GradNaiveRand(f, df, x0, a, maxIter, e, stopCriterion)\n",
    "    x = x0\n",
    "    x_k = [x0]\n",
    "    f_k = [f(x0)]"
   ]
  }
 ],
 "metadata": {
  "kernelspec": {
   "display_name": "Julia 1.8.0",
   "language": "julia",
   "name": "julia-1.8"
  },
  "language_info": {
   "file_extension": ".jl",
   "mimetype": "application/julia",
   "name": "julia",
   "version": "1.8.0"
  }
 },
 "nbformat": 4,
 "nbformat_minor": 2
}
