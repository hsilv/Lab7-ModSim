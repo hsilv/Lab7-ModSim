{
 "cells": [
  {
   "cell_type": "markdown",
   "metadata": {},
   "source": [
    "### Formulación del problema"
   ]
  },
  {
   "cell_type": "markdown",
   "metadata": {},
   "source": [
    "1. **Variables de decisión:**\n",
    "  \n",
    "    Definiremos una variable booleana que tomará el valor de verdadero (1) si el trabajador $i$ ha sido asignado a la tarea $j$ y falso (0) si no ha sido asignado. En este caso, esta variable será $x_{ij}$"
   ]
  },
  {
   "cell_type": "markdown",
   "metadata": {},
   "source": [
    "2. **Función objetivo:**\n",
    "    \n",
    "    Esta función deberá minimizarse, en sí, minimizar el costo total de asignación del trabajador $i$ a la tarea $j$. Asociando un costo $c_{ij}$ que tomará asignar el trabajador $i$ a la tarea $j$.\n",
    "\n",
    "    $$min(\\sum_{i=1}^{5} \\sum_{j=1}^{5} \\ c_{ij} * x_{ij})$$"
   ]
  },
  {
   "cell_type": "markdown",
   "metadata": {},
   "source": [
    "3. **Restricciones:**\n",
    "   \n",
    "    Un trabajador solo puede hacer una tarea a la vez.\n",
    "\n",
    "    $$\\sum_{j=1}^{5} x_{ij} = 1 \\ \\ \\ \\forall i \\land \\forall j$$\n",
    "\n",
    "    La variable $x_{ij}$ solo puede tomar dos valores, $0$ y $1$.\n",
    "\n",
    "    $$x_{ij} \\ \\in \\ \\{ 0, 1 \\}$$"
   ]
  },
  {
   "cell_type": "markdown",
   "metadata": {},
   "source": [
    "### b) Código"
   ]
  },
  {
   "cell_type": "code",
   "execution_count": 1,
   "metadata": {},
   "outputs": [],
   "source": [
    "using JuMP, GLPK"
   ]
  },
  {
   "cell_type": "markdown",
   "metadata": {},
   "source": [
    "**Matriz $x_{ij}$ de costos de asignación**"
   ]
  },
  {
   "cell_type": "code",
   "execution_count": 2,
   "metadata": {},
   "outputs": [
    {
     "data": {
      "text/plain": [
       "5×5 Matrix{Int64}:\n",
       " 3  8  2  10  3\n",
       " 6  5  2   7  5\n",
       " 6  4  2   7  5\n",
       " 8  4  2   3  5\n",
       " 7  8  6   7  7"
      ]
     },
     "metadata": {},
     "output_type": "display_data"
    }
   ],
   "source": [
    "xij = [\n",
    "    3 8 2 10 3;\n",
    "    6 5 2 7 5;\n",
    "    6 4 2 7 5;\n",
    "    8 4 2 3 5;\n",
    "    7 8 6 7 7\n",
    "]"
   ]
  },
  {
   "cell_type": "markdown",
   "metadata": {},
   "source": [
    "**Creación el modelo**"
   ]
  },
  {
   "cell_type": "code",
   "execution_count": 3,
   "metadata": {},
   "outputs": [
    {
     "data": {
      "text/plain": [
       "A JuMP Model\n",
       "├ solver: GLPK\n",
       "├ objective_sense: FEASIBILITY_SENSE\n",
       "├ num_variables: 0\n",
       "├ num_constraints: 0\n",
       "└ Names registered in the model: none"
      ]
     },
     "metadata": {},
     "output_type": "display_data"
    }
   ],
   "source": [
    "model = Model(GLPK.Optimizer)"
   ]
  },
  {
   "cell_type": "markdown",
   "metadata": {},
   "source": [
    "**Definir las variable de decisión booleana**"
   ]
  },
  {
   "cell_type": "code",
   "execution_count": 4,
   "metadata": {},
   "outputs": [
    {
     "data": {
      "text/plain": [
       "5×5 Matrix{VariableRef}:\n",
       " x[1,1]  x[1,2]  x[1,3]  x[1,4]  x[1,5]\n",
       " x[2,1]  x[2,2]  x[2,3]  x[2,4]  x[2,5]\n",
       " x[3,1]  x[3,2]  x[3,3]  x[3,4]  x[3,5]\n",
       " x[4,1]  x[4,2]  x[4,3]  x[4,4]  x[4,5]\n",
       " x[5,1]  x[5,2]  x[5,3]  x[5,4]  x[5,5]"
      ]
     },
     "metadata": {},
     "output_type": "display_data"
    }
   ],
   "source": [
    "@variable(model, x[1:5, 1:5], Bin)"
   ]
  },
  {
   "cell_type": "markdown",
   "metadata": {},
   "source": [
    "**Definir la función a minimizar (objetivo)**"
   ]
  },
  {
   "cell_type": "code",
   "execution_count": 5,
   "metadata": {},
   "outputs": [
    {
     "data": {
      "text/latex": [
       "$ 3 x_{1,1} + 8 x_{1,2} + 2 x_{1,3} + 10 x_{1,4} + 3 x_{1,5} + 6 x_{2,1} + 5 x_{2,2} + 2 x_{2,3} + 7 x_{2,4} + 5 x_{2,5} + 6 x_{3,1} + 4 x_{3,2} + 2 x_{3,3} + 7 x_{3,4} + 5 x_{3,5} + 8 x_{4,1} + 4 x_{4,2} + 2 x_{4,3} + 3 x_{4,4} + 5 x_{4,5} + 7 x_{5,1} + 8 x_{5,2} + 6 x_{5,3} + 7 x_{5,4} + 7 x_{5,5} $"
      ],
      "text/plain": [
       "3 x[1,1] + 8 x[1,2] + 2 x[1,3] + 10 x[1,4] + 3 x[1,5] + 6 x[2,1] + 5 x[2,2] + 2 x[2,3] + 7 x[2,4] + 5 x[2,5] + 6 x[3,1] + 4 x[3,2] + 2 x[3,3] + 7 x[3,4] + 5 x[3,5] + 8 x[4,1] + 4 x[4,2] + 2 x[4,3] + 3 x[4,4] + 5 x[4,5] + 7 x[5,1] + 8 x[5,2] + 6 x[5,3] + 7 x[5,4] + 7 x[5,5]"
      ]
     },
     "metadata": {},
     "output_type": "display_data"
    }
   ],
   "source": [
    "@objective(model, Min, sum(xij[i,j]*x[i,j] for i in 1:5, j in 1:5))"
   ]
  },
  {
   "cell_type": "markdown",
   "metadata": {},
   "source": [
    "**Aplicar las restricciones**"
   ]
  },
  {
   "cell_type": "code",
   "execution_count": 6,
   "metadata": {},
   "outputs": [],
   "source": [
    "for i in 1:5\n",
    "    @constraint(model, sum(x[i,j] for j in 1:5) == 1)\n",
    "end\n",
    "\n",
    "for j in 1:5\n",
    "    @constraint(model, sum(x[i,j] for i in 1:5) == 1)\n",
    "end"
   ]
  },
  {
   "cell_type": "markdown",
   "metadata": {},
   "source": [
    "**Resolución del modelo**"
   ]
  },
  {
   "cell_type": "code",
   "execution_count": 7,
   "metadata": {},
   "outputs": [],
   "source": [
    "optimize!(model)"
   ]
  },
  {
   "cell_type": "markdown",
   "metadata": {},
   "source": [
    "**Presentar resultados**"
   ]
  },
  {
   "cell_type": "code",
   "execution_count": 8,
   "metadata": {},
   "outputs": [
    {
     "name": "stdout",
     "output_type": "stream",
     "text": [
      "Asignación óptima:\n",
      "Trabajador 1 asignado a Tarea 1 con costo de $3\n",
      "Trabajador 2 asignado a Tarea 3 con costo de $2\n",
      "Trabajador 3 asignado a Tarea 2 con costo de $4\n",
      "Trabajador 4 asignado a Tarea 4 con costo de $3\n",
      "Trabajador 5 asignado a Tarea 5 con costo de $7\n",
      "Costo total de la asignación: $19.0\n"
     ]
    }
   ],
   "source": [
    "if termination_status(model) == MOI.OPTIMAL\n",
    "    println(\"Asignación óptima:\")\n",
    "    for i in 1:5, j in 1:5\n",
    "        if value(x[i,j]) == 1\n",
    "            println(\"Trabajador \", i, \" asignado a Tarea \", j, \" con costo de \\$\", xij[i,j])\n",
    "        end\n",
    "    end\n",
    "    println(\"Costo total de la asignación: \\$\", objective_value(model))\n",
    "else\n",
    "    println(\"No se encontró una solución óptima.\")\n",
    "end"
   ]
  }
 ],
 "metadata": {
  "kernelspec": {
   "display_name": "Julia 1.8.0",
   "language": "julia",
   "name": "julia-1.8"
  },
  "language_info": {
   "file_extension": ".jl",
   "mimetype": "application/julia",
   "name": "julia",
   "version": "1.8.0"
  }
 },
 "nbformat": 4,
 "nbformat_minor": 2
}
