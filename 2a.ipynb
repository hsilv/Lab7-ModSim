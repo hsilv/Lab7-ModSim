{
 "cells": [
  {
   "cell_type": "markdown",
   "metadata": {},
   "source": [
    "### a) Formulación del modelo de transporte"
   ]
  },
  {
   "cell_type": "markdown",
   "metadata": {},
   "source": [
    "1. **Variables de decisión:**\n",
    "   * $x_{ij}$ será el número de automóviles que se envían desde el centro $i$ al concesionario $j$.\n",
    "   * $i = 1,2,3$\n",
    "   * $j = 1,2,3,4,5$"
   ]
  },
  {
   "cell_type": "markdown",
   "metadata": {},
   "source": [
    "2. **Función objetivo**\n",
    "    La función objetivo será el costo total, el cual es:\n",
    "    $$\\sum_{i=1}^{3} \\sum_{j=1}^{5} x_{ij} * c_{ij}$$\n",
    "\n",
    "    El objetivo es minimizar la función de costo, debido a que el costo por unidad transportada será menor del centro $i$ al concesionario $j$. Esta se obtiene multiplicando la distancia por el costo por unidad de distancia (millas) entre la cantidad de autos por carga $(18)$."
   ]
  },
  {
   "cell_type": "markdown",
   "metadata": {},
   "source": [
    "3. **Restricciones:**\n",
    "   \n",
    "   ***Oferta***\n",
    "   \n",
    "    Obteniendo los componentes de la suma de costos tenemos que la cantidad total enviada desde un centro es\n",
    "    $$\\sum_{j=1}^{5}x_{ij}$$\n",
    "\n",
    "    Entonces la cantidad total enviada no debe exceder la oferta\n",
    "    $$\\sum_{j=1}^{5}x_{ij} \\leq sale_{i} \\ \\ \\ \\ para \\ i = 1,2,3$$\n",
    "\n",
    "    ***Demanda***\n",
    "\n",
    "    Obteniendo los componentes de la suma de costos tenemos que la cantidad total recibida por un concesionario es:\n",
    "    $$\\sum_{i=1}^{3}x_{ij}$$\n",
    "\n",
    "    Entonces la cantidad total recibida por un concesionario debe ser igual a la demanda\n",
    "    $$\\sum_{i=1}^{3}x_{ij} = demanda_{j} \\ \\ \\ \\ para \\ j = 1, 2, 3, 4, 5$$\n",
    "\n"
   ]
  },
  {
   "cell_type": "markdown",
   "metadata": {},
   "source": [
    "4. **No negatividad:**\n",
    "   Las cantidades en las sumas no pueden ser negativas\n",
    "   $$x_{ij} \\geq 0 \\ \\ \\ \\ \\ \\forall \\ \\ i, j$$"
   ]
  },
  {
   "cell_type": "markdown",
   "metadata": {},
   "source": [
    "### b) Código"
   ]
  },
  {
   "cell_type": "code",
   "execution_count": 1,
   "metadata": {},
   "outputs": [],
   "source": [
    "using JuMP, GLPK"
   ]
  },
  {
   "cell_type": "markdown",
   "metadata": {},
   "source": [
    "**Datos**"
   ]
  },
  {
   "cell_type": "code",
   "execution_count": 2,
   "metadata": {},
   "outputs": [
    {
     "data": {
      "text/plain": [
       "18"
      ]
     },
     "metadata": {},
     "output_type": "display_data"
    }
   ],
   "source": [
    "costPMile = 25\n",
    "maxCars = 18"
   ]
  },
  {
   "cell_type": "markdown",
   "metadata": {},
   "source": [
    "**Distnacias entre concesionarios y centros**"
   ]
  },
  {
   "cell_type": "code",
   "execution_count": 3,
   "metadata": {},
   "outputs": [
    {
     "data": {
      "text/plain": [
       "3×5 Matrix{Int64}:\n",
       " 100  150  200  140   35\n",
       "  50   70   60   65   80\n",
       "  40   90  100  150  130"
      ]
     },
     "metadata": {},
     "output_type": "display_data"
    }
   ],
   "source": [
    "dists = [\n",
    "    100 150 200 140 35;\n",
    "    50 70 60 65 80;\n",
    "    40 90 100 150 130;\n",
    "]"
   ]
  },
  {
   "cell_type": "markdown",
   "metadata": {},
   "source": [
    "**Ofertas y demandas**"
   ]
  },
  {
   "cell_type": "code",
   "execution_count": 4,
   "metadata": {},
   "outputs": [
    {
     "data": {
      "text/plain": [
       "5-element Vector{Int64}:\n",
       " 100\n",
       " 200\n",
       " 150\n",
       " 160\n",
       " 200"
      ]
     },
     "metadata": {},
     "output_type": "display_data"
    }
   ],
   "source": [
    "offers = [400, 200, 150]\n",
    "demands = [100, 200, 150, 160, 200]"
   ]
  },
  {
   "cell_type": "markdown",
   "metadata": {},
   "source": [
    "**Creación del modelo**"
   ]
  },
  {
   "cell_type": "code",
   "execution_count": 5,
   "metadata": {},
   "outputs": [
    {
     "data": {
      "text/plain": [
       "A JuMP Model\n",
       "├ solver: GLPK\n",
       "├ objective_sense: FEASIBILITY_SENSE\n",
       "├ num_variables: 0\n",
       "├ num_constraints: 0\n",
       "└ Names registered in the model: none"
      ]
     },
     "metadata": {},
     "output_type": "display_data"
    }
   ],
   "source": [
    "model = Model(GLPK.Optimizer)"
   ]
  },
  {
   "cell_type": "markdown",
   "metadata": {},
   "source": [
    "**Conjunto de variables**"
   ]
  },
  {
   "cell_type": "code",
   "execution_count": 6,
   "metadata": {},
   "outputs": [
    {
     "data": {
      "text/plain": [
       "3×5 Matrix{VariableRef}:\n",
       " x[1,1]  x[1,2]  x[1,3]  x[1,4]  x[1,5]\n",
       " x[2,1]  x[2,2]  x[2,3]  x[2,4]  x[2,5]\n",
       " x[3,1]  x[3,2]  x[3,3]  x[3,4]  x[3,5]"
      ]
     },
     "metadata": {},
     "output_type": "display_data"
    }
   ],
   "source": [
    "@variable(model, x[1:3, 1:5] >= 0)"
   ]
  },
  {
   "cell_type": "markdown",
   "metadata": {},
   "source": [
    "**Función a minimizar (objetivo)**"
   ]
  },
  {
   "cell_type": "code",
   "execution_count": 7,
   "metadata": {},
   "outputs": [
    {
     "data": {
      "text/latex": [
       "$ 138.88888888888889 x_{1,1} + 208.33333333333334 x_{1,2} + 277.77777777777777 x_{1,3} + 194.44444444444446 x_{1,4} + 48.611111111111114 x_{1,5} + 69.44444444444444 x_{2,1} + 97.22222222222223 x_{2,2} + 83.33333333333333 x_{2,3} + 90.27777777777777 x_{2,4} + 111.11111111111111 x_{2,5} + 55.55555555555556 x_{3,1} + 125 x_{3,2} + 138.88888888888889 x_{3,3} + 208.33333333333334 x_{3,4} + 180.55555555555554 x_{3,5} $"
      ],
      "text/plain": [
       "138.88888888888889 x[1,1] + 208.33333333333334 x[1,2] + 277.77777777777777 x[1,3] + 194.44444444444446 x[1,4] + 48.611111111111114 x[1,5] + 69.44444444444444 x[2,1] + 97.22222222222223 x[2,2] + 83.33333333333333 x[2,3] + 90.27777777777777 x[2,4] + 111.11111111111111 x[2,5] + 55.55555555555556 x[3,1] + 125 x[3,2] + 138.88888888888889 x[3,3] + 208.33333333333334 x[3,4] + 180.55555555555554 x[3,5]"
      ]
     },
     "metadata": {},
     "output_type": "display_data"
    }
   ],
   "source": [
    "@objective(model, Min, sum(x[i,j] * dists[i,j] * costPMile / maxCars for i in 1:3, j in 1:5))"
   ]
  },
  {
   "cell_type": "markdown",
   "metadata": {},
   "source": [
    "**Restricciones**"
   ]
  },
  {
   "cell_type": "code",
   "execution_count": 8,
   "metadata": {},
   "outputs": [],
   "source": [
    "for i in 1:3\n",
    "    @constraint(model, sum(x[i,j] for j in 1:5) <= offers[i])\n",
    "end\n",
    "\n",
    "for j in 1:5\n",
    "    @constraint(model, sum(x[i,j] for i in 1:3) == demands[j])\n",
    "end"
   ]
  },
  {
   "cell_type": "markdown",
   "metadata": {},
   "source": [
    "**Resolución del modelo**"
   ]
  },
  {
   "cell_type": "code",
   "execution_count": 9,
   "metadata": {},
   "outputs": [],
   "source": [
    "optimize!(model)"
   ]
  },
  {
   "cell_type": "markdown",
   "metadata": {},
   "source": [
    "**Presentar resultados**"
   ]
  },
  {
   "cell_type": "code",
   "execution_count": 10,
   "metadata": {},
   "outputs": [
    {
     "name": "stdout",
     "output_type": "stream",
     "text": [
      "No se encontró solución óptima.\n"
     ]
    }
   ],
   "source": [
    "if termination_status(model) == MOI.OPTIMAL\n",
    "    println(\"Distribución óptima:\")\n",
    "    for i in 1:3, j in 1:5\n",
    "        println(\"Enviar \", value(x[i,j]), \" autos desde el Centro \", i, \" al Concesionario \", j)\n",
    "    end\n",
    "    println(\"Costo total: \\$\", objective_value(model))\n",
    "else\n",
    "    println(\"No se encontró solución óptima.\")\n",
    "end"
   ]
  }
 ],
 "metadata": {
  "kernelspec": {
   "display_name": "Julia 1.8.0",
   "language": "julia",
   "name": "julia-1.8"
  },
  "language_info": {
   "file_extension": ".jl",
   "mimetype": "application/julia",
   "name": "julia",
   "version": "1.8.0"
  }
 },
 "nbformat": 4,
 "nbformat_minor": 2
}
